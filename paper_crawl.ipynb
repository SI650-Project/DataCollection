{
 "cells": [
  {
   "cell_type": "code",
   "execution_count": 51,
   "metadata": {},
   "outputs": [],
   "source": [
    "AREAS = [\n",
    "'Semantic segmentation',\n",
    "'Image classification',\n",
    "'Object detection',\n",
    "'Object Recognition',\n",
    "'Domain adaptation',\n",
    "'Image generation',\n",
    "'Data augmentation (Image augmentation)',\n",
    "'Pose estimation',\n",
    "'Autonomous vehicles',\n",
    "'Denoising',\n",
    "'Super-Resolution',\n",
    "'Object Tracking',\n",
    "'Action Recognition',\n",
    "'Face Recognition',\n",
    "'Depth Estimation',\n",
    "'Optical Character Recognition',\n",
    "'3D Reconstruction',\n",
    "'Image Retrieval',\n",
    "'Optical Flow Estimation',\n",
    "'Style Transfer',\n",
    "'Image Compression']"
   ]
  },
  {
   "cell_type": "markdown",
   "metadata": {},
   "source": [
    "# Google Scholar Crawl"
   ]
  },
  {
   "cell_type": "code",
   "execution_count": 69,
   "metadata": {},
   "outputs": [],
   "source": [
    "import pandas as pd\n",
    "from serpapi import GoogleSearch\n",
    "from tqdm import tqdm"
   ]
  },
  {
   "cell_type": "code",
   "execution_count": 70,
   "metadata": {},
   "outputs": [
    {
     "name": "stderr",
     "output_type": "stream",
     "text": [
      "100%|██████████| 21/21 [01:24<00:00,  4.05s/it]\n"
     ]
    }
   ],
   "source": [
    "gs_raw = {}\n",
    "total_paper = 400\n",
    "for area in tqdm(AREAS):\n",
    "    area_raw = []\n",
    "    for ii in range(total_paper//20):\n",
    "        params = {\n",
    "        'api_key': '24a5ee79fec15b3de7db738f3b8c3bf6a869c127f2db55f8109723c8007b1798',\n",
    "        'engine': 'google_scholar',\n",
    "        'q': 'Semantic Segmentation',\n",
    "        'hl': 'en',\n",
    "        'as_ylo': '2000',\n",
    "        'num': '20',\n",
    "        'start': f'{20*ii}'\n",
    "        }\n",
    "        search = GoogleSearch(params)\n",
    "        area_raw += search.get_dict().get('organic_results')\n",
    "    gs_raw[area] = area_raw"
   ]
  },
  {
   "cell_type": "code",
   "execution_count": 71,
   "metadata": {},
   "outputs": [],
   "source": [
    "gs_results = []\n",
    "keys_to_extract = ['title', 'link', 'snippet']\n",
    "for area in AREAS:\n",
    "    for rank, paper in enumerate(gs_raw[area]):\n",
    "        paper_result = {'area': area, 'rank': rank + 1}\n",
    "        for key in keys_to_extract:\n",
    "            paper_result[key] = paper[key]\n",
    "        if 'resources' in paper:\n",
    "            for resource in paper['resources']:\n",
    "                if resource['file_format'] == 'PDF' and resource['link']:\n",
    "                    paper_result['pdf_link'] = resource['link']\n",
    "                    break\n",
    "        if 'pdf_link' not in paper_result:\n",
    "            paper_result['pdf_link'] = None\n",
    "        \n",
    "        gs_results.append(paper_result)\n",
    "    \n",
    "    "
   ]
  },
  {
   "cell_type": "code",
   "execution_count": 72,
   "metadata": {},
   "outputs": [],
   "source": [
    "gs_df = pd.DataFrame(gs_results)\n",
    "gs_df.to_csv('gs_results.csv', index=False)"
   ]
  },
  {
   "cell_type": "markdown",
   "metadata": {},
   "source": [
    "# Semantic Segmenation"
   ]
  },
  {
   "cell_type": "code",
   "execution_count": 16,
   "metadata": {},
   "outputs": [],
   "source": [
    "import requests\n"
   ]
  },
  {
   "cell_type": "code",
   "execution_count": 105,
   "metadata": {},
   "outputs": [
    {
     "name": "stderr",
     "output_type": "stream",
     "text": [
      "100%|██████████| 21/21 [00:46<00:00,  2.21s/it]\n"
     ]
    }
   ],
   "source": [
    "ss_results = []\n",
    "for area in tqdm(AREAS):\n",
    "    raw = requests.get('https://api.semanticscholar.org/graph/v1/paper/search?query={}&limit=100&fields=url,title,abstract,referenceCount,citationCount,influentialCitationCount,isOpenAccess,fieldsOfStudy'.format('+'.join(area.lower().split(' ')))).json().get('data')\n",
    "    raw += requests.get('https://api.semanticscholar.org/graph/v1/paper/search?query={}&limit=100&offset=100&fields=url,title,abstract,referenceCount,citationCount,influentialCitationCount,isOpenAccess,fieldsOfStudy'.format('+'.join(area.lower().split(' ')))).json().get('data')\n",
    "    for rank, paper in enumerate(raw):\n",
    "        paper['area'] = area\n",
    "        paper['rank'] = rank + 1\n",
    "        ss_results.append(paper)"
   ]
  },
  {
   "cell_type": "code",
   "execution_count": 112,
   "metadata": {},
   "outputs": [],
   "source": [
    "ss_df = pd.DataFrame(ss_results)\n",
    "ss_df.dropna()\n",
    "ss_df = ss_df[['area','rank','title','referenceCount', 'url', 'citationCount', 'influentialCitationCount', 'isOpenAccess', 'fieldsOfStudy', 'abstract']]"
   ]
  },
  {
   "cell_type": "code",
   "execution_count": 113,
   "metadata": {},
   "outputs": [],
   "source": [
    "ss_df.to_csv('ss_results.csv', index=False)"
   ]
  },
  {
   "cell_type": "markdown",
   "metadata": {},
   "source": [
    "# Paperwithcodes"
   ]
  },
  {
   "cell_type": "code",
   "execution_count": 33,
   "metadata": {},
   "outputs": [],
   "source": [
    "from bs4 import BeautifulSoup"
   ]
  },
  {
   "cell_type": "code",
   "execution_count": 65,
   "metadata": {},
   "outputs": [
    {
     "name": "stderr",
     "output_type": "stream",
     "text": [
      "100%|██████████| 21/21 [06:42<00:00, 19.17s/it]\n"
     ]
    }
   ],
   "source": [
    "total_paper = 200\n",
    "pc_results = []\n",
    "for area in tqdm(AREAS):\n",
    "    area_formated = '-'.join(area.lower().split(' '))\n",
    "    for ii in range(total_paper//10):\n",
    "        html_raw = requests.get(f'https://paperswithcode.com/task/semantic-segmentation?page={ii+1}')\n",
    "        soup = BeautifulSoup(html_raw.text, 'html.parser')\n",
    "        paper_cards = soup.find_all('div', class_='paper-card infinite-item')\n",
    "        for jj, paper_card in enumerate(paper_cards):\n",
    "            rank = ii * 10 + jj + 1\n",
    "            result = {'area': area, 'rank': rank}\n",
    "            result['title'] = paper_card.find('h1').text\n",
    "            pc_results.append(result)"
   ]
  },
  {
   "cell_type": "code",
   "execution_count": 68,
   "metadata": {},
   "outputs": [],
   "source": [
    "pc_df = pd.DataFrame(pc_results)\n",
    "pc_df.to_csv('pc_results.csv', index=False)"
   ]
  }
 ],
 "metadata": {
  "interpreter": {
   "hash": "98ab6bb59f86b054a55de3821f32cbbb81650a75d3a80945573196de73c4c46c"
  },
  "kernelspec": {
   "display_name": "Python 3.7.3 64-bit ('base': conda)",
   "name": "python3"
  },
  "language_info": {
   "codemirror_mode": {
    "name": "ipython",
    "version": 3
   },
   "file_extension": ".py",
   "mimetype": "text/x-python",
   "name": "python",
   "nbconvert_exporter": "python",
   "pygments_lexer": "ipython3",
   "version": "3.7.3"
  },
  "orig_nbformat": 4
 },
 "nbformat": 4,
 "nbformat_minor": 2
}
