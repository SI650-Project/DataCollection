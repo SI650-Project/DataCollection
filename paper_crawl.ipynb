{
 "cells": [
  {
   "cell_type": "code",
   "execution_count": 14,
   "metadata": {},
   "outputs": [],
   "source": [
    "AREAS = [\n",
    "\"Semantic segmentation\",\n",
    "\"Image classification\",\n",
    "\"Object detection\",\n",
    "\"Object Recognition\",\n",
    "\"Domain adaptation\",\n",
    "\"Image generation\",\n",
    "\"Data augmentation (Image augmentation)\",\n",
    "\"Pose estimation\",\n",
    "\"Autonomous vehicles\",\n",
    "\"Denoising\",\n",
    "\"Super-Resolution\",\n",
    "\"Object Tracking\",\n",
    "\"Action Recognition\",\n",
    "\"Face Recognition\",\n",
    "\"Depth Estimation\",\n",
    "\"Optical Character Recognition\",\n",
    "\"3D Reconstruction\",\n",
    "\"Image Retrieval\",\n",
    "\"Optical Flow Estimation\",\n",
    "\"Style Transfer\",\n",
    "\"Image Compression\"]"
   ]
  },
  {
   "cell_type": "markdown",
   "metadata": {},
   "source": [
    "# Google Scholar Crawl"
   ]
  },
  {
   "cell_type": "code",
   "execution_count": 21,
   "metadata": {},
   "outputs": [],
   "source": [
    "from scholarly import scholarly\n",
    "from tqdm import tqdm"
   ]
  },
  {
   "cell_type": "code",
   "execution_count": 28,
   "metadata": {},
   "outputs": [
    {
     "name": "stderr",
     "output_type": "stream",
     "text": [
      "  5%|▍         | 1/21 [00:23<07:55, 23.77s/it]"
     ]
    }
   ],
   "source": [
    "gs_results = {}\n",
    "total_paper = 150\n",
    "for area in tqdm(AREAS):\n",
    "    search_query = scholarly.search_pubs(area)\n",
    "    area_results = []\n",
    "    for _ in range(total_paper):\n",
    "        raw = next(search_query)\n",
    "        if raw is None:\n",
    "            break\n",
    "        result = [raw['bib'], raw['pub_url']]\n",
    "        area_results.append(result)\n",
    "        "
   ]
  },
  {
   "cell_type": "code",
   "execution_count": 27,
   "metadata": {},
   "outputs": [
    {
     "data": {
      "text/plain": [
       "{'container_type': 'Publication',\n",
       " 'source': <PublicationSource.PUBLICATION_SEARCH_SNIPPET: 'PUBLICATION_SEARCH_SNIPPET'>,\n",
       " 'bib': {'title': 'Bisenet: Bilateral segmentation network for real-time semantic segmentation',\n",
       "  'author': ['C Yu', 'J Wang', 'C Peng', 'C Gao'],\n",
       "  'pub_year': '2018',\n",
       "  'venue': 'Proceedings of the …',\n",
       "  'abstract': 'Semantic segmentation requires both rich spatial information and sizeable receptive field. However, modern approaches usually compromise spatial resolution to achieve real-time inference speed, which leads to poor performance. In this paper, we address this dilemma'},\n",
       " 'filled': False,\n",
       " 'gsrank': 5,\n",
       " 'pub_url': 'http://openaccess.thecvf.com/content_ECCV_2018/html/Changqian_Yu_BiSeNet_Bilateral_Segmentation_ECCV_2018_paper.html',\n",
       " 'author_id': ['Hv-vj2sAAAAJ', 'GStTsxAAAAAJ', 'agmuPioAAAAJ', '4tku-lwAAAAJ'],\n",
       " 'num_citations': 759,\n",
       " 'url_scholarbib': '/scholar?q=info:-BVpJufY9i0J:scholar.google.com/&output=cite&scirp=4&hl=en',\n",
       " 'url_add_sclib': '/citations?hl=en&xsrf=&continue=/scholar%3Fq%3DSemantic%2Bsegmentation%26hl%3Den%26as_sdt%3D0,33&citilm=1&update_op=library_add&info=-BVpJufY9i0J&ei=OemCYfTxFYf0yASxlbrABQ&json=',\n",
       " 'citedby_url': '/scholar?cites=3312073063271044600&as_sdt=5,33&sciodt=0,33&hl=en',\n",
       " 'url_related_articles': '/scholar?q=related:-BVpJufY9i0J:scholar.google.com/&scioq=Semantic+segmentation&hl=en&as_sdt=0,33',\n",
       " 'eprint_url': 'https://openaccess.thecvf.com/content_ECCV_2018/papers/Changqian_Yu_BiSeNet_Bilateral_Segmentation_ECCV_2018_paper.pdf'}"
      ]
     },
     "execution_count": 27,
     "metadata": {},
     "output_type": "execute_result"
    }
   ],
   "source": [
    "next(search_query)"
   ]
  }
 ],
 "metadata": {
  "interpreter": {
   "hash": "98ab6bb59f86b054a55de3821f32cbbb81650a75d3a80945573196de73c4c46c"
  },
  "kernelspec": {
   "display_name": "Python 3.7.3 64-bit ('base': conda)",
   "name": "python3"
  },
  "language_info": {
   "codemirror_mode": {
    "name": "ipython",
    "version": 3
   },
   "file_extension": ".py",
   "mimetype": "text/x-python",
   "name": "python",
   "nbconvert_exporter": "python",
   "pygments_lexer": "ipython3",
   "version": "3.7.3"
  },
  "orig_nbformat": 4
 },
 "nbformat": 4,
 "nbformat_minor": 2
}
